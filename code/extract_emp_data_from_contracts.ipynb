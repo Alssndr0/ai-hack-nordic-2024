{
 "cells": [
  {
   "cell_type": "code",
   "execution_count": 29,
   "metadata": {},
   "outputs": [],
   "source": [
    "# pip install python-docx==1.1.2\n",
    "\n",
    "import os\n",
    "import json \n",
    "\n",
    "from openai import OpenAI\n",
    "from docx import Document"
   ]
  },
  {
   "cell_type": "code",
   "execution_count": 9,
   "metadata": {},
   "outputs": [],
   "source": [
    "# put your openai key here\n",
    "openai_key = '...'\n",
    "model = 'gpt-4o-2024-08-06'"
   ]
  },
  {
   "cell_type": "code",
   "execution_count": 22,
   "metadata": {},
   "outputs": [],
   "source": [
    "def list_word_documents(folder_path):\n",
    "    \"\"\"\n",
    "    List all Word documents in the specified folder and return their full paths.\n",
    "\n",
    "    :param folder_path: Path to the folder where Word documents are located\n",
    "    :return: List of full paths to Word document files\n",
    "    \"\"\"\n",
    "    # List to store the full paths of Word documents\n",
    "    word_documents = []\n",
    "\n",
    "    # Iterate through all files in the specified folder\n",
    "    for file_name in os.listdir(folder_path):\n",
    "        # Check if the file is a Word document\n",
    "        if file_name.endswith('.docx') or file_name.endswith('.doc'):\n",
    "            # Get the full path and append it to the list\n",
    "            full_path = os.path.join(folder_path, file_name)\n",
    "            word_documents.append(full_path)\n",
    "    \n",
    "    return word_documents"
   ]
  },
  {
   "cell_type": "code",
   "execution_count": 23,
   "metadata": {},
   "outputs": [
    {
     "data": {
      "text/plain": [
       "['Contracts/Lionel Messi.docx', 'Contracts/Cristiano Ronaldo.docx']"
      ]
     },
     "execution_count": 23,
     "metadata": {},
     "output_type": "execute_result"
    }
   ],
   "source": [
    "documents = list_word_documents(r\"Contracts\")\n",
    "documents"
   ]
  },
  {
   "cell_type": "code",
   "execution_count": 42,
   "metadata": {},
   "outputs": [],
   "source": [
    "client = OpenAI(api_key= openai_key)\n",
    "\n",
    "# this is the chat function, takes our system instruction, user message and chatbot memory\n",
    "def chat(user):\n",
    "\n",
    "    # this is the instruction that is persistently passed to the model \n",
    "    system = \"\"\"You are a helpful assistant. You only need to find the requested data, if present, in the given text, and return it in this json format:\\n\n",
    "            ```json\n",
    "                name: \n",
    "                surname:\n",
    "                phone_number:\n",
    "                email_address:\n",
    "                city_of_residence:\n",
    "                role:\n",
    "                contracted_days: (i.e., these are the days the employee may be asked to work, usually this is either weekdays only or flexible, icluding weekends)\n",
    "                contracted_hours: (i.e., these are the hours the employee has been contracted for, usually 20 or 40)\n",
    "                salary_type: (i.e., hourly, daily, weekly, monthly)\n",
    "                salary_amount: \n",
    "            ``` \n",
    "                \"\"\"\n",
    "    completion = client.beta.chat.completions.parse(\n",
    "        model=\"gpt-4o-2024-08-06\",\n",
    "        messages=[\n",
    "            {\"role\": \"system\", \"content\": system},\n",
    "            {\"role\": \"user\", \"content\": user},\n",
    "        ],\n",
    "    )\n",
    "\n",
    "    message = completion.choices[0].message\n",
    "    return message\n",
    "\n",
    "def extract_text_from_docx(docx_path):\n",
    "    \"\"\"\n",
    "    Extracts text from a .docx file.\n",
    "\n",
    "    :param docx_path: Path to the .docx file\n",
    "    :return: Extracted text as a string\n",
    "    \"\"\"\n",
    "    doc = Document(docx_path)\n",
    "    full_text = []\n",
    "    for para in doc.paragraphs:\n",
    "        full_text.append(para.text)\n",
    "    return '\\n'.join(full_text)\n",
    "\n",
    "\n",
    "def process_contracts(docx_files):\n",
    "    \"\"\"\n",
    "    Processes a list of Word documents, extracts text, and uses the chat function to get the desired output.\n",
    "\n",
    "    :param system: The persistent system instruction\n",
    "    :param docx_files: A list of paths to Word documents\n",
    "    :return: A list of outputs for each document\n",
    "    \"\"\"\n",
    "    results = []  # List to store the results\n",
    "\n",
    "    for docx_file in docx_files:\n",
    "        text = extract_text_from_docx(docx_file)  # Extract text from the Word document\n",
    "        output = chat(text)  # Process the extracted text with the chat function\n",
    "        results.append(output)\n",
    "\n",
    "    return results"
   ]
  },
  {
   "cell_type": "code",
   "execution_count": 43,
   "metadata": {},
   "outputs": [],
   "source": [
    "# Process the messages and get the results\n",
    "results = process_contracts(documents)"
   ]
  },
  {
   "cell_type": "code",
   "execution_count": 44,
   "metadata": {},
   "outputs": [
    {
     "name": "stdout",
     "output_type": "stream",
     "text": [
      "```json\n",
      "{\n",
      "    \"name\": \"Lionel\",\n",
      "    \"surname\": \"Messi\",\n",
      "    \"phone_number\": \"(305) 555-1234\",\n",
      "    \"email_address\": \"Lionel.Messi@inter-miami.com\",\n",
      "    \"city_of_residence\": \"Miami\",\n",
      "    \"role\": \"Full-Time Cook\",\n",
      "    \"contracted_days\": \"flexible, including weekends\",\n",
      "    \"contracted_hours\": \"40\",\n",
      "    \"salary_type\": \"monthly\",\n",
      "    \"salary_amount\": \"60,000 dollars\"\n",
      "}\n",
      "```\n",
      "```json\n",
      "{\n",
      "    \"name\": \"Cristiano\",\n",
      "    \"surname\": \"Ronaldo\",\n",
      "    \"phone_number\": \"+966 55 123 4567\",\n",
      "    \"email_address\": \"Cristiano.Ronaldo@ai-nassar.com\",\n",
      "    \"city_of_residence\": \"Dubai\",\n",
      "    \"role\": \"Full-Time Waiter\",\n",
      "    \"contracted_days\": \"flexible, including weekends\",\n",
      "    \"contracted_hours\": \"40\",\n",
      "    \"salary_type\": \"monthly\",\n",
      "    \"salary_amount\": \"50,000 dollars\"\n",
      "}\n",
      "```\n"
     ]
    }
   ],
   "source": [
    "for r in results:\n",
    "    print(r.content)"
   ]
  },
  {
   "cell_type": "code",
   "execution_count": null,
   "metadata": {},
   "outputs": [],
   "source": []
  }
 ],
 "metadata": {
  "kernelspec": {
   "display_name": "hack",
   "language": "python",
   "name": "python3"
  },
  "language_info": {
   "codemirror_mode": {
    "name": "ipython",
    "version": 3
   },
   "file_extension": ".py",
   "mimetype": "text/x-python",
   "name": "python",
   "nbconvert_exporter": "python",
   "pygments_lexer": "ipython3",
   "version": "3.12.3"
  }
 },
 "nbformat": 4,
 "nbformat_minor": 2
}
